{
 "cells": [
  {
   "cell_type": "code",
   "execution_count": 1,
   "metadata": {},
   "outputs": [],
   "source": [
    "#Import Libraries,Load Data"
   ]
  },
  {
   "cell_type": "code",
   "execution_count": 2,
   "metadata": {},
   "outputs": [],
   "source": [
    "import numpy as np\n",
    "import pandas as pd\n",
    "import matplotlib.pyplot as plt\n",
    "import seaborn as sns"
   ]
  },
  {
   "cell_type": "code",
   "execution_count": 3,
   "metadata": {},
   "outputs": [
    {
     "data": {
      "text/html": [
       "<div>\n",
       "<style scoped>\n",
       "    .dataframe tbody tr th:only-of-type {\n",
       "        vertical-align: middle;\n",
       "    }\n",
       "\n",
       "    .dataframe tbody tr th {\n",
       "        vertical-align: top;\n",
       "    }\n",
       "\n",
       "    .dataframe thead th {\n",
       "        text-align: right;\n",
       "    }\n",
       "</style>\n",
       "<table border=\"1\" class=\"dataframe\">\n",
       "  <thead>\n",
       "    <tr style=\"text-align: right;\">\n",
       "      <th></th>\n",
       "      <th>rank</th>\n",
       "      <th>discipline</th>\n",
       "      <th>yrs.since.phd</th>\n",
       "      <th>yrs.service</th>\n",
       "      <th>sex</th>\n",
       "      <th>salary</th>\n",
       "    </tr>\n",
       "  </thead>\n",
       "  <tbody>\n",
       "    <tr>\n",
       "      <th>0</th>\n",
       "      <td>Prof</td>\n",
       "      <td>B</td>\n",
       "      <td>19</td>\n",
       "      <td>18</td>\n",
       "      <td>Male</td>\n",
       "      <td>139750</td>\n",
       "    </tr>\n",
       "    <tr>\n",
       "      <th>1</th>\n",
       "      <td>Prof</td>\n",
       "      <td>B</td>\n",
       "      <td>20</td>\n",
       "      <td>16</td>\n",
       "      <td>Male</td>\n",
       "      <td>173200</td>\n",
       "    </tr>\n",
       "    <tr>\n",
       "      <th>2</th>\n",
       "      <td>AsstProf</td>\n",
       "      <td>B</td>\n",
       "      <td>4</td>\n",
       "      <td>3</td>\n",
       "      <td>Male</td>\n",
       "      <td>79750</td>\n",
       "    </tr>\n",
       "    <tr>\n",
       "      <th>3</th>\n",
       "      <td>Prof</td>\n",
       "      <td>B</td>\n",
       "      <td>45</td>\n",
       "      <td>39</td>\n",
       "      <td>Male</td>\n",
       "      <td>115000</td>\n",
       "    </tr>\n",
       "    <tr>\n",
       "      <th>4</th>\n",
       "      <td>Prof</td>\n",
       "      <td>B</td>\n",
       "      <td>40</td>\n",
       "      <td>41</td>\n",
       "      <td>Male</td>\n",
       "      <td>141500</td>\n",
       "    </tr>\n",
       "  </tbody>\n",
       "</table>\n",
       "</div>"
      ],
      "text/plain": [
       "       rank discipline  yrs.since.phd  yrs.service   sex  salary\n",
       "0      Prof          B             19           18  Male  139750\n",
       "1      Prof          B             20           16  Male  173200\n",
       "2  AsstProf          B              4            3  Male   79750\n",
       "3      Prof          B             45           39  Male  115000\n",
       "4      Prof          B             40           41  Male  141500"
      ]
     },
     "execution_count": 3,
     "metadata": {},
     "output_type": "execute_result"
    }
   ],
   "source": [
    "df = pd.read_csv('https://raw.githubusercontent.com/dsrscientist/dataset3/main/Salaries.csv')\n",
    "\n",
    "df.head()"
   ]
  },
  {
   "cell_type": "code",
   "execution_count": 4,
   "metadata": {},
   "outputs": [
    {
     "data": {
      "text/plain": [
       "Index(['rank', 'discipline', 'yrs.since.phd', 'yrs.service', 'sex', 'salary'], dtype='object')"
      ]
     },
     "execution_count": 4,
     "metadata": {},
     "output_type": "execute_result"
    }
   ],
   "source": [
    "df.columns"
   ]
  },
  {
   "cell_type": "code",
   "execution_count": 5,
   "metadata": {},
   "outputs": [
    {
     "name": "stdout",
     "output_type": "stream",
     "text": [
      "<class 'pandas.core.frame.DataFrame'>\n",
      "RangeIndex: 397 entries, 0 to 396\n",
      "Data columns (total 6 columns):\n",
      " #   Column         Non-Null Count  Dtype \n",
      "---  ------         --------------  ----- \n",
      " 0   rank           397 non-null    object\n",
      " 1   discipline     397 non-null    object\n",
      " 2   yrs.since.phd  397 non-null    int64 \n",
      " 3   yrs.service    397 non-null    int64 \n",
      " 4   sex            397 non-null    object\n",
      " 5   salary         397 non-null    int64 \n",
      "dtypes: int64(3), object(3)\n",
      "memory usage: 18.7+ KB\n"
     ]
    }
   ],
   "source": [
    "df.info()"
   ]
  },
  {
   "cell_type": "code",
   "execution_count": 6,
   "metadata": {},
   "outputs": [
    {
     "data": {
      "text/plain": [
       "rank             object\n",
       "discipline       object\n",
       "yrs.since.phd     int64\n",
       "yrs.service       int64\n",
       "sex              object\n",
       "salary            int64\n",
       "dtype: object"
      ]
     },
     "execution_count": 6,
     "metadata": {},
     "output_type": "execute_result"
    }
   ],
   "source": [
    "df.dtypes"
   ]
  },
  {
   "cell_type": "code",
   "execution_count": 7,
   "metadata": {},
   "outputs": [
    {
     "data": {
      "text/html": [
       "<div>\n",
       "<style scoped>\n",
       "    .dataframe tbody tr th:only-of-type {\n",
       "        vertical-align: middle;\n",
       "    }\n",
       "\n",
       "    .dataframe tbody tr th {\n",
       "        vertical-align: top;\n",
       "    }\n",
       "\n",
       "    .dataframe thead th {\n",
       "        text-align: right;\n",
       "    }\n",
       "</style>\n",
       "<table border=\"1\" class=\"dataframe\">\n",
       "  <thead>\n",
       "    <tr style=\"text-align: right;\">\n",
       "      <th></th>\n",
       "      <th>yrs.since.phd</th>\n",
       "      <th>yrs.service</th>\n",
       "      <th>salary</th>\n",
       "    </tr>\n",
       "  </thead>\n",
       "  <tbody>\n",
       "    <tr>\n",
       "      <th>count</th>\n",
       "      <td>397.000000</td>\n",
       "      <td>397.000000</td>\n",
       "      <td>397.000000</td>\n",
       "    </tr>\n",
       "    <tr>\n",
       "      <th>mean</th>\n",
       "      <td>22.314861</td>\n",
       "      <td>17.614610</td>\n",
       "      <td>113706.458438</td>\n",
       "    </tr>\n",
       "    <tr>\n",
       "      <th>std</th>\n",
       "      <td>12.887003</td>\n",
       "      <td>13.006024</td>\n",
       "      <td>30289.038695</td>\n",
       "    </tr>\n",
       "    <tr>\n",
       "      <th>min</th>\n",
       "      <td>1.000000</td>\n",
       "      <td>0.000000</td>\n",
       "      <td>57800.000000</td>\n",
       "    </tr>\n",
       "    <tr>\n",
       "      <th>25%</th>\n",
       "      <td>12.000000</td>\n",
       "      <td>7.000000</td>\n",
       "      <td>91000.000000</td>\n",
       "    </tr>\n",
       "    <tr>\n",
       "      <th>50%</th>\n",
       "      <td>21.000000</td>\n",
       "      <td>16.000000</td>\n",
       "      <td>107300.000000</td>\n",
       "    </tr>\n",
       "    <tr>\n",
       "      <th>75%</th>\n",
       "      <td>32.000000</td>\n",
       "      <td>27.000000</td>\n",
       "      <td>134185.000000</td>\n",
       "    </tr>\n",
       "    <tr>\n",
       "      <th>max</th>\n",
       "      <td>56.000000</td>\n",
       "      <td>60.000000</td>\n",
       "      <td>231545.000000</td>\n",
       "    </tr>\n",
       "  </tbody>\n",
       "</table>\n",
       "</div>"
      ],
      "text/plain": [
       "       yrs.since.phd  yrs.service         salary\n",
       "count     397.000000   397.000000     397.000000\n",
       "mean       22.314861    17.614610  113706.458438\n",
       "std        12.887003    13.006024   30289.038695\n",
       "min         1.000000     0.000000   57800.000000\n",
       "25%        12.000000     7.000000   91000.000000\n",
       "50%        21.000000    16.000000  107300.000000\n",
       "75%        32.000000    27.000000  134185.000000\n",
       "max        56.000000    60.000000  231545.000000"
      ]
     },
     "execution_count": 7,
     "metadata": {},
     "output_type": "execute_result"
    }
   ],
   "source": [
    "df.describe()"
   ]
  },
  {
   "cell_type": "code",
   "execution_count": 8,
   "metadata": {},
   "outputs": [
    {
     "data": {
      "text/plain": [
       "rank             0\n",
       "discipline       0\n",
       "yrs.since.phd    0\n",
       "yrs.service      0\n",
       "sex              0\n",
       "salary           0\n",
       "dtype: int64"
      ]
     },
     "execution_count": 8,
     "metadata": {},
     "output_type": "execute_result"
    }
   ],
   "source": [
    "df.isnull().sum()"
   ]
  },
  {
   "cell_type": "markdown",
   "metadata": {},
   "source": [
    "There is no null values in the dataset"
   ]
  },
  {
   "cell_type": "markdown",
   "metadata": {},
   "source": [
    "Data Distribution"
   ]
  },
  {
   "cell_type": "code",
   "execution_count": 9,
   "metadata": {},
   "outputs": [],
   "source": [
    "cat_variables = df[['rank','discipline','sex']]"
   ]
  },
  {
   "cell_type": "code",
   "execution_count": 10,
   "metadata": {},
   "outputs": [
    {
     "data": {
      "image/png": "[encoded data removed]",
      "text/plain": [
       "<Figure size 1368x792 with 3 Axes>"
      ]
     },
     "metadata": {},
     "output_type": "display_data"
    }
   ],
   "source": [
    "plt.figure(figsize=(19,11),facecolor='white')\n",
    "plotnumber=1\n",
    "for i in cat_variables:\n",
    "    if plotnumber <=4:\n",
    "        ax = plt.subplot(2,2,plotnumber)\n",
    "        sns.countplot(df[i])\n",
    "    plotnumber+=1\n",
    "plt.show()"
   ]
  },
  {
   "cell_type": "code",
   "execution_count": 11,
   "metadata": {},
   "outputs": [
    {
     "name": "stdout",
     "output_type": "stream",
     "text": [
      "Prof         266\n",
      "AsstProf      67\n",
      "AssocProf     64\n",
      "Name: rank, dtype: int64\n",
      "B    216\n",
      "A    181\n",
      "Name: discipline, dtype: int64\n",
      "Male      358\n",
      "Female     39\n",
      "Name: sex, dtype: int64\n"
     ]
    }
   ],
   "source": [
    "print(df['rank'].value_counts())\n",
    "print(df['discipline'].value_counts())\n",
    "print(df['sex'].value_counts())"
   ]
  },
  {
   "cell_type": "code",
   "execution_count": 12,
   "metadata": {},
   "outputs": [],
   "source": [
    "numeric_variables = df[['yrs.since.phd','yrs.service','salary']]"
   ]
  },
  {
   "cell_type": "code",
   "execution_count": 13,
   "metadata": {},
   "outputs": [
    {
     "data": {
      "image/png": "[encoded data removed]",
      "text/plain": [
       "<Figure size 1368x792 with 3 Axes>"
      ]
     },
     "metadata": {},
     "output_type": "display_data"
    }
   ],
   "source": [
    "plt.figure(figsize=(19,11),facecolor='white')\n",
    "plotnumber=1\n",
    "for i in numeric_variables:\n",
    "    if plotnumber <=4:\n",
    "        ax = plt.subplot(2,2,plotnumber)\n",
    "        sns.distplot(df[i])\n",
    "    plotnumber+=1\n",
    "plt.show()"
   ]
  },
  {
   "cell_type": "markdown",
   "metadata": {},
   "source": [
    "Encoding"
   ]
  },
  {
   "cell_type": "code",
   "execution_count": 14,
   "metadata": {},
   "outputs": [],
   "source": [
    "from sklearn.preprocessing import LabelEncoder"
   ]
  },
  {
   "cell_type": "code",
   "execution_count": 15,
   "metadata": {},
   "outputs": [],
   "source": [
    "le = LabelEncoder()"
   ]
  },
  {
   "cell_type": "code",
   "execution_count": 16,
   "metadata": {},
   "outputs": [],
   "source": [
    "for f in cat_variables:\n",
    "    df[f] = le.fit_transform(df[f])\n",
    "    df[f]"
   ]
  },
  {
   "cell_type": "code",
   "execution_count": 17,
   "metadata": {},
   "outputs": [
    {
     "data": {
      "text/html": [
       "<div>\n",
       "<style scoped>\n",
       "    .dataframe tbody tr th:only-of-type {\n",
       "        vertical-align: middle;\n",
       "    }\n",
       "\n",
       "    .dataframe tbody tr th {\n",
       "        vertical-align: top;\n",
       "    }\n",
       "\n",
       "    .dataframe thead th {\n",
       "        text-align: right;\n",
       "    }\n",
       "</style>\n",
       "<table border=\"1\" class=\"dataframe\">\n",
       "  <thead>\n",
       "    <tr style=\"text-align: right;\">\n",
       "      <th></th>\n",
       "      <th>rank</th>\n",
       "      <th>discipline</th>\n",
       "      <th>yrs.since.phd</th>\n",
       "      <th>yrs.service</th>\n",
       "      <th>sex</th>\n",
       "      <th>salary</th>\n",
       "    </tr>\n",
       "  </thead>\n",
       "  <tbody>\n",
       "    <tr>\n",
       "      <th>0</th>\n",
       "      <td>2</td>\n",
       "      <td>1</td>\n",
       "      <td>19</td>\n",
       "      <td>18</td>\n",
       "      <td>1</td>\n",
       "      <td>139750</td>\n",
       "    </tr>\n",
       "    <tr>\n",
       "      <th>1</th>\n",
       "      <td>2</td>\n",
       "      <td>1</td>\n",
       "      <td>20</td>\n",
       "      <td>16</td>\n",
       "      <td>1</td>\n",
       "      <td>173200</td>\n",
       "    </tr>\n",
       "    <tr>\n",
       "      <th>2</th>\n",
       "      <td>1</td>\n",
       "      <td>1</td>\n",
       "      <td>4</td>\n",
       "      <td>3</td>\n",
       "      <td>1</td>\n",
       "      <td>79750</td>\n",
       "    </tr>\n",
       "    <tr>\n",
       "      <th>3</th>\n",
       "      <td>2</td>\n",
       "      <td>1</td>\n",
       "      <td>45</td>\n",
       "      <td>39</td>\n",
       "      <td>1</td>\n",
       "      <td>115000</td>\n",
       "    </tr>\n",
       "    <tr>\n",
       "      <th>4</th>\n",
       "      <td>2</td>\n",
       "      <td>1</td>\n",
       "      <td>40</td>\n",
       "      <td>41</td>\n",
       "      <td>1</td>\n",
       "      <td>141500</td>\n",
       "    </tr>\n",
       "  </tbody>\n",
       "</table>\n",
       "</div>"
      ],
      "text/plain": [
       "   rank  discipline  yrs.since.phd  yrs.service  sex  salary\n",
       "0     2           1             19           18    1  139750\n",
       "1     2           1             20           16    1  173200\n",
       "2     1           1              4            3    1   79750\n",
       "3     2           1             45           39    1  115000\n",
       "4     2           1             40           41    1  141500"
      ]
     },
     "execution_count": 17,
     "metadata": {},
     "output_type": "execute_result"
    }
   ],
   "source": [
    "df.head()"
   ]
  },
  {
   "cell_type": "markdown",
   "metadata": {},
   "source": [
    "Correlation Matrix"
   ]
  },
  {
   "cell_type": "code",
   "execution_count": 18,
   "metadata": {},
   "outputs": [
    {
     "data": {
      "text/html": [
       "<div>\n",
       "<style scoped>\n",
       "    .dataframe tbody tr th:only-of-type {\n",
       "        vertical-align: middle;\n",
       "    }\n",
       "\n",
       "    .dataframe tbody tr th {\n",
       "        vertical-align: top;\n",
       "    }\n",
       "\n",
       "    .dataframe thead th {\n",
       "        text-align: right;\n",
       "    }\n",
       "</style>\n",
       "<table border=\"1\" class=\"dataframe\">\n",
       "  <thead>\n",
       "    <tr style=\"text-align: right;\">\n",
       "      <th></th>\n",
       "      <th>rank</th>\n",
       "      <th>discipline</th>\n",
       "      <th>yrs.since.phd</th>\n",
       "      <th>yrs.service</th>\n",
       "      <th>sex</th>\n",
       "      <th>salary</th>\n",
       "    </tr>\n",
       "  </thead>\n",
       "  <tbody>\n",
       "    <tr>\n",
       "      <th>rank</th>\n",
       "      <td>1.000000</td>\n",
       "      <td>-0.086266</td>\n",
       "      <td>0.525500</td>\n",
       "      <td>0.447499</td>\n",
       "      <td>0.132492</td>\n",
       "      <td>0.522207</td>\n",
       "    </tr>\n",
       "    <tr>\n",
       "      <th>discipline</th>\n",
       "      <td>-0.086266</td>\n",
       "      <td>1.000000</td>\n",
       "      <td>-0.218087</td>\n",
       "      <td>-0.164599</td>\n",
       "      <td>0.003724</td>\n",
       "      <td>0.156084</td>\n",
       "    </tr>\n",
       "    <tr>\n",
       "      <th>yrs.since.phd</th>\n",
       "      <td>0.525500</td>\n",
       "      <td>-0.218087</td>\n",
       "      <td>1.000000</td>\n",
       "      <td>0.909649</td>\n",
       "      <td>0.148788</td>\n",
       "      <td>0.419231</td>\n",
       "    </tr>\n",
       "    <tr>\n",
       "      <th>yrs.service</th>\n",
       "      <td>0.447499</td>\n",
       "      <td>-0.164599</td>\n",
       "      <td>0.909649</td>\n",
       "      <td>1.000000</td>\n",
       "      <td>0.153740</td>\n",
       "      <td>0.334745</td>\n",
       "    </tr>\n",
       "    <tr>\n",
       "      <th>sex</th>\n",
       "      <td>0.132492</td>\n",
       "      <td>0.003724</td>\n",
       "      <td>0.148788</td>\n",
       "      <td>0.153740</td>\n",
       "      <td>1.000000</td>\n",
       "      <td>0.138610</td>\n",
       "    </tr>\n",
       "    <tr>\n",
       "      <th>salary</th>\n",
       "      <td>0.522207</td>\n",
       "      <td>0.156084</td>\n",
       "      <td>0.419231</td>\n",
       "      <td>0.334745</td>\n",
       "      <td>0.138610</td>\n",
       "      <td>1.000000</td>\n",
       "    </tr>\n",
       "  </tbody>\n",
       "</table>\n",
       "</div>"
      ],
      "text/plain": [
       "                   rank  discipline  yrs.since.phd  yrs.service       sex  \\\n",
       "rank           1.000000   -0.086266       0.525500     0.447499  0.132492   \n",
       "discipline    -0.086266    1.000000      -0.218087    -0.164599  0.003724   \n",
       "yrs.since.phd  0.525500   -0.218087       1.000000     0.909649  0.148788   \n",
       "yrs.service    0.447499   -0.164599       0.909649     1.000000  0.153740   \n",
       "sex            0.132492    0.003724       0.148788     0.153740  1.000000   \n",
       "salary         0.522207    0.156084       0.419231     0.334745  0.138610   \n",
       "\n",
       "                 salary  \n",
       "rank           0.522207  \n",
       "discipline     0.156084  \n",
       "yrs.since.phd  0.419231  \n",
       "yrs.service    0.334745  \n",
       "sex            0.138610  \n",
       "salary         1.000000  "
      ]
     },
     "execution_count": 18,
     "metadata": {},
     "output_type": "execute_result"
    }
   ],
   "source": [
    "c = df.corr()\n",
    "c"
   ]
  },
  {
   "cell_type": "code",
   "execution_count": 19,
   "metadata": {},
   "outputs": [
    {
     "data": {
      "image/png": "[encoded data removed]",
      "text/plain": [
       "<Figure size 720x432 with 2 Axes>"
      ]
     },
     "metadata": {
      "needs_background": "light"
     },
     "output_type": "display_data"
    }
   ],
   "source": [
    "plt.figure(figsize=(10,6));\n",
    "sns.heatmap(c,annot=True,linecolor='black',linewidths=8);"
   ]
  },
  {
   "cell_type": "code",
   "execution_count": 20,
   "metadata": {},
   "outputs": [
    {
     "data": {
      "text/plain": [
       "rank            -1.151164\n",
       "discipline      -0.177684\n",
       "yrs.since.phd    0.300880\n",
       "yrs.service      0.650569\n",
       "sex             -2.709958\n",
       "salary           0.714568\n",
       "dtype: float64"
      ]
     },
     "execution_count": 20,
     "metadata": {},
     "output_type": "execute_result"
    }
   ],
   "source": [
    "df.skew()"
   ]
  },
  {
   "cell_type": "markdown",
   "metadata": {},
   "source": [
    "Check for Outliers"
   ]
  },
  {
   "cell_type": "code",
   "execution_count": 21,
   "metadata": {},
   "outputs": [
    {
     "data": {
      "image/png": "[encoded data removed]",
      "text/plain": [
       "<Figure size 2088x1368 with 6 Axes>"
      ]
     },
     "metadata": {},
     "output_type": "display_data"
    }
   ],
   "source": [
    "plt.figure(figsize=(29,19),facecolor='white')\n",
    "plotnumber=1\n",
    "for i in df:\n",
    "    if plotnumber <=10:\n",
    "        ax = plt.subplot(5,2,plotnumber)\n",
    "        sns.boxplot(df[i])\n",
    "    plotnumber+=1 \n",
    "plt.show()"
   ]
  },
  {
   "cell_type": "code",
   "execution_count": 22,
   "metadata": {},
   "outputs": [
    {
     "name": "stdout",
     "output_type": "stream",
     "text": [
      "152946.00000000003\n"
     ]
    }
   ],
   "source": [
    "print(df['salary'].quantile(0.90))\n",
    "\n",
    "df['salary'] = np.where(df['salary'] >152946.00000000003,152946.00000000003,df['salary'])"
   ]
  },
  {
   "cell_type": "code",
   "execution_count": 23,
   "metadata": {},
   "outputs": [
    {
     "data": {
      "text/plain": [
       "<matplotlib.axes._subplots.AxesSubplot at 0x1cbdab0d708>"
      ]
     },
     "execution_count": 23,
     "metadata": {},
     "output_type": "execute_result"
    },
    {
     "data": {
      "image/png": "[encoded data removed]",
      "text/plain": [
       "<Figure size 432x288 with 1 Axes>"
      ]
     },
     "metadata": {
      "needs_background": "light"
     },
     "output_type": "display_data"
    }
   ],
   "source": [
    "sns.boxplot(df['salary'])"
   ]
  },
  {
   "cell_type": "code",
   "execution_count": 24,
   "metadata": {},
   "outputs": [
    {
     "name": "stdout",
     "output_type": "stream",
     "text": [
      "37.0\n"
     ]
    }
   ],
   "source": [
    "print(df['yrs.service'].quantile(0.90))\n",
    "\n",
    "df['yrs.service'] = np.where(df['yrs.service'] >37.0,37.0,df['yrs.service'])"
   ]
  },
  {
   "cell_type": "code",
   "execution_count": 25,
   "metadata": {},
   "outputs": [
    {
     "data": {
      "text/plain": [
       "<matplotlib.axes._subplots.AxesSubplot at 0x1cbda229948>"
      ]
     },
     "execution_count": 25,
     "metadata": {},
     "output_type": "execute_result"
    },
    {
     "data": {
      "image/png": "[encoded data removed]",
      "text/plain": [
       "<Figure size 432x288 with 1 Axes>"
      ]
     },
     "metadata": {
      "needs_background": "light"
     },
     "output_type": "display_data"
    }
   ],
   "source": [
    "sns.boxplot(df['yrs.service'])"
   ]
  },
  {
   "cell_type": "code",
   "execution_count": 26,
   "metadata": {},
   "outputs": [
    {
     "data": {
      "image/png": "[encoded data removed]",
      "text/plain": [
       "<Figure size 2088x1368 with 6 Axes>"
      ]
     },
     "metadata": {},
     "output_type": "display_data"
    }
   ],
   "source": [
    "plt.figure(figsize=(29,19),facecolor='white')\n",
    "plotnumber=1\n",
    "for i in df:\n",
    "    if plotnumber <=10:\n",
    "        ax = plt.subplot(5,2,plotnumber)\n",
    "        sns.boxplot(df[i])\n",
    "    plotnumber+=1\n",
    "plt.show()"
   ]
  },
  {
   "cell_type": "code",
   "execution_count": 27,
   "metadata": {},
   "outputs": [
    {
     "data": {
      "text/plain": [
       "rank            -1.151164\n",
       "discipline      -0.177684\n",
       "yrs.since.phd    0.300880\n",
       "yrs.service      0.311156\n",
       "sex             -2.709958\n",
       "salary           0.166029\n",
       "dtype: float64"
      ]
     },
     "execution_count": 27,
     "metadata": {},
     "output_type": "execute_result"
    }
   ],
   "source": [
    "df.skew()"
   ]
  },
  {
   "cell_type": "markdown",
   "metadata": {},
   "source": []
  },
  {
   "cell_type": "code",
   "execution_count": 28,
   "metadata": {},
   "outputs": [],
   "source": [
    "from sklearn.preprocessing import PowerTransformer"
   ]
  },
  {
   "cell_type": "code",
   "execution_count": 29,
   "metadata": {},
   "outputs": [],
   "source": [
    "pt = PowerTransformer(method='yeo-johnson')"
   ]
  },
  {
   "cell_type": "code",
   "execution_count": 30,
   "metadata": {},
   "outputs": [
    {
     "data": {
      "text/plain": [
       "array([[ 0.69005113,  0.91540317, -0.12729454,  0.26115986,  0.3300584 ,\n",
       "         1.07190476],\n",
       "       [ 0.69005113,  0.91540317, -0.04917821,  0.10475414,  0.3300584 ,\n",
       "         1.49914244],\n",
       "       [-1.09153554,  0.91540317, -1.62812069, -1.30682156,  0.3300584 ,\n",
       "        -1.26937935],\n",
       "       ...,\n",
       "       [ 0.69005113, -1.09241483,  1.39552477,  0.75173836,  0.3300584 ,\n",
       "        -0.31618284],\n",
       "       [ 0.69005113, -1.09241483,  0.32017198,  0.02307242,  0.3300584 ,\n",
       "        -0.57989602],\n",
       "       [-1.09153554, -1.09241483, -1.13497737, -1.14950121,  0.3300584 ,\n",
       "        -1.20957098]])"
      ]
     },
     "execution_count": 30,
     "metadata": {},
     "output_type": "execute_result"
    }
   ],
   "source": [
    "df = pt.fit_transform(df.values)\n",
    "df"
   ]
  },
  {
   "cell_type": "code",
   "execution_count": 31,
   "metadata": {},
   "outputs": [],
   "source": [
    " df = pd.DataFrame(df)"
   ]
  },
  {
   "cell_type": "code",
   "execution_count": 32,
   "metadata": {},
   "outputs": [],
   "source": [
    "df.columns = ['rank', 'discipline', 'yrs.since.phd', 'yrs.service', 'sex', 'salary']"
   ]
  },
  {
   "cell_type": "code",
   "execution_count": 33,
   "metadata": {},
   "outputs": [
    {
     "data": {
      "text/html": [
       "<div>\n",
       "<style scoped>\n",
       "    .dataframe tbody tr th:only-of-type {\n",
       "        vertical-align: middle;\n",
       "    }\n",
       "\n",
       "    .dataframe tbody tr th {\n",
       "        vertical-align: top;\n",
       "    }\n",
       "\n",
       "    .dataframe thead th {\n",
       "        text-align: right;\n",
       "    }\n",
       "</style>\n",
       "<table border=\"1\" class=\"dataframe\">\n",
       "  <thead>\n",
       "    <tr style=\"text-align: right;\">\n",
       "      <th></th>\n",
       "      <th>rank</th>\n",
       "      <th>discipline</th>\n",
       "      <th>yrs.since.phd</th>\n",
       "      <th>yrs.service</th>\n",
       "      <th>sex</th>\n",
       "      <th>salary</th>\n",
       "    </tr>\n",
       "  </thead>\n",
       "  <tbody>\n",
       "    <tr>\n",
       "      <th>0</th>\n",
       "      <td>0.690051</td>\n",
       "      <td>0.915403</td>\n",
       "      <td>-0.127295</td>\n",
       "      <td>0.261160</td>\n",
       "      <td>0.330058</td>\n",
       "      <td>1.071905</td>\n",
       "    </tr>\n",
       "    <tr>\n",
       "      <th>1</th>\n",
       "      <td>0.690051</td>\n",
       "      <td>0.915403</td>\n",
       "      <td>-0.049178</td>\n",
       "      <td>0.104754</td>\n",
       "      <td>0.330058</td>\n",
       "      <td>1.499142</td>\n",
       "    </tr>\n",
       "    <tr>\n",
       "      <th>2</th>\n",
       "      <td>-1.091536</td>\n",
       "      <td>0.915403</td>\n",
       "      <td>-1.628121</td>\n",
       "      <td>-1.306822</td>\n",
       "      <td>0.330058</td>\n",
       "      <td>-1.269379</td>\n",
       "    </tr>\n",
       "    <tr>\n",
       "      <th>3</th>\n",
       "      <td>0.690051</td>\n",
       "      <td>0.915403</td>\n",
       "      <td>1.565162</td>\n",
       "      <td>1.457094</td>\n",
       "      <td>0.330058</td>\n",
       "      <td>0.199144</td>\n",
       "    </tr>\n",
       "    <tr>\n",
       "      <th>4</th>\n",
       "      <td>0.690051</td>\n",
       "      <td>0.915403</td>\n",
       "      <td>1.279680</td>\n",
       "      <td>1.457094</td>\n",
       "      <td>0.330058</td>\n",
       "      <td>1.129932</td>\n",
       "    </tr>\n",
       "    <tr>\n",
       "      <th>...</th>\n",
       "      <td>...</td>\n",
       "      <td>...</td>\n",
       "      <td>...</td>\n",
       "      <td>...</td>\n",
       "      <td>...</td>\n",
       "      <td>...</td>\n",
       "    </tr>\n",
       "    <tr>\n",
       "      <th>392</th>\n",
       "      <td>0.690051</td>\n",
       "      <td>-1.092415</td>\n",
       "      <td>0.854260</td>\n",
       "      <td>1.062187</td>\n",
       "      <td>0.330058</td>\n",
       "      <td>-0.261208</td>\n",
       "    </tr>\n",
       "    <tr>\n",
       "      <th>393</th>\n",
       "      <td>0.690051</td>\n",
       "      <td>-1.092415</td>\n",
       "      <td>0.726155</td>\n",
       "      <td>0.336251</td>\n",
       "      <td>0.330058</td>\n",
       "      <td>1.423724</td>\n",
       "    </tr>\n",
       "    <tr>\n",
       "      <th>394</th>\n",
       "      <td>0.690051</td>\n",
       "      <td>-1.092415</td>\n",
       "      <td>1.395525</td>\n",
       "      <td>0.751738</td>\n",
       "      <td>0.330058</td>\n",
       "      <td>-0.316183</td>\n",
       "    </tr>\n",
       "    <tr>\n",
       "      <th>395</th>\n",
       "      <td>0.690051</td>\n",
       "      <td>-1.092415</td>\n",
       "      <td>0.320172</td>\n",
       "      <td>0.023072</td>\n",
       "      <td>0.330058</td>\n",
       "      <td>-0.579896</td>\n",
       "    </tr>\n",
       "    <tr>\n",
       "      <th>396</th>\n",
       "      <td>-1.091536</td>\n",
       "      <td>-1.092415</td>\n",
       "      <td>-1.134977</td>\n",
       "      <td>-1.149501</td>\n",
       "      <td>0.330058</td>\n",
       "      <td>-1.209571</td>\n",
       "    </tr>\n",
       "  </tbody>\n",
       "</table>\n",
       "<p>397 rows × 6 columns</p>\n",
       "</div>"
      ],
      "text/plain": [
       "         rank  discipline  yrs.since.phd  yrs.service       sex    salary\n",
       "0    0.690051    0.915403      -0.127295     0.261160  0.330058  1.071905\n",
       "1    0.690051    0.915403      -0.049178     0.104754  0.330058  1.499142\n",
       "2   -1.091536    0.915403      -1.628121    -1.306822  0.330058 -1.269379\n",
       "3    0.690051    0.915403       1.565162     1.457094  0.330058  0.199144\n",
       "4    0.690051    0.915403       1.279680     1.457094  0.330058  1.129932\n",
       "..        ...         ...            ...          ...       ...       ...\n",
       "392  0.690051   -1.092415       0.854260     1.062187  0.330058 -0.261208\n",
       "393  0.690051   -1.092415       0.726155     0.336251  0.330058  1.423724\n",
       "394  0.690051   -1.092415       1.395525     0.751738  0.330058 -0.316183\n",
       "395  0.690051   -1.092415       0.320172     0.023072  0.330058 -0.579896\n",
       "396 -1.091536   -1.092415      -1.134977    -1.149501  0.330058 -1.209571\n",
       "\n",
       "[397 rows x 6 columns]"
      ]
     },
     "execution_count": 33,
     "metadata": {},
     "output_type": "execute_result"
    }
   ],
   "source": [
    "df"
   ]
  },
  {
   "cell_type": "markdown",
   "metadata": {},
   "source": [
    "# Model Building"
   ]
  },
  {
   "cell_type": "code",
   "execution_count": 34,
   "metadata": {},
   "outputs": [],
   "source": [
    "X = df.drop(['salary'],axis=1)\n",
    "y = df['salary']"
   ]
  },
  {
   "cell_type": "code",
   "execution_count": 35,
   "metadata": {},
   "outputs": [
    {
     "data": {
      "text/html": [
       "<div>\n",
       "<style scoped>\n",
       "    .dataframe tbody tr th:only-of-type {\n",
       "        vertical-align: middle;\n",
       "    }\n",
       "\n",
       "    .dataframe tbody tr th {\n",
       "        vertical-align: top;\n",
       "    }\n",
       "\n",
       "    .dataframe thead th {\n",
       "        text-align: right;\n",
       "    }\n",
       "</style>\n",
       "<table border=\"1\" class=\"dataframe\">\n",
       "  <thead>\n",
       "    <tr style=\"text-align: right;\">\n",
       "      <th></th>\n",
       "      <th>rank</th>\n",
       "      <th>discipline</th>\n",
       "      <th>yrs.since.phd</th>\n",
       "      <th>yrs.service</th>\n",
       "      <th>sex</th>\n",
       "    </tr>\n",
       "  </thead>\n",
       "  <tbody>\n",
       "    <tr>\n",
       "      <th>0</th>\n",
       "      <td>0.690051</td>\n",
       "      <td>0.915403</td>\n",
       "      <td>-0.127295</td>\n",
       "      <td>0.261160</td>\n",
       "      <td>0.330058</td>\n",
       "    </tr>\n",
       "    <tr>\n",
       "      <th>1</th>\n",
       "      <td>0.690051</td>\n",
       "      <td>0.915403</td>\n",
       "      <td>-0.049178</td>\n",
       "      <td>0.104754</td>\n",
       "      <td>0.330058</td>\n",
       "    </tr>\n",
       "    <tr>\n",
       "      <th>2</th>\n",
       "      <td>-1.091536</td>\n",
       "      <td>0.915403</td>\n",
       "      <td>-1.628121</td>\n",
       "      <td>-1.306822</td>\n",
       "      <td>0.330058</td>\n",
       "    </tr>\n",
       "    <tr>\n",
       "      <th>3</th>\n",
       "      <td>0.690051</td>\n",
       "      <td>0.915403</td>\n",
       "      <td>1.565162</td>\n",
       "      <td>1.457094</td>\n",
       "      <td>0.330058</td>\n",
       "    </tr>\n",
       "    <tr>\n",
       "      <th>4</th>\n",
       "      <td>0.690051</td>\n",
       "      <td>0.915403</td>\n",
       "      <td>1.279680</td>\n",
       "      <td>1.457094</td>\n",
       "      <td>0.330058</td>\n",
       "    </tr>\n",
       "  </tbody>\n",
       "</table>\n",
       "</div>"
      ],
      "text/plain": [
       "       rank  discipline  yrs.since.phd  yrs.service       sex\n",
       "0  0.690051    0.915403      -0.127295     0.261160  0.330058\n",
       "1  0.690051    0.915403      -0.049178     0.104754  0.330058\n",
       "2 -1.091536    0.915403      -1.628121    -1.306822  0.330058\n",
       "3  0.690051    0.915403       1.565162     1.457094  0.330058\n",
       "4  0.690051    0.915403       1.279680     1.457094  0.330058"
      ]
     },
     "execution_count": 35,
     "metadata": {},
     "output_type": "execute_result"
    }
   ],
   "source": [
    "X.head()"
   ]
  },
  {
   "cell_type": "code",
   "execution_count": 36,
   "metadata": {},
   "outputs": [],
   "source": [
    "from sklearn.linear_model import LinearRegression\n",
    "from sklearn.model_selection import train_test_split\n",
    "from sklearn.metrics import r2_score"
   ]
  },
  {
   "cell_type": "code",
   "execution_count": 95,
   "metadata": {},
   "outputs": [],
   "source": [
    "x_train,x_test,y_train,y_test=train_test_split(X,y,test_size=0.25,random_state=200)"
   ]
  },
  {
   "cell_type": "code",
   "execution_count": 96,
   "metadata": {},
   "outputs": [
    {
     "name": "stdout",
     "output_type": "stream",
     "text": [
      "[ 0.14341519 -0.97977276  0.63402654  0.57310755  0.64435881  0.16405183\n",
      " -0.63121697  0.5528645   0.53564194  0.27201246  0.05206053  0.26736297\n",
      "  0.78823382 -0.79406167  0.21588867  0.17997898  0.42241575 -1.07621088\n",
      "  0.28598586 -0.58562587  0.62058532  0.68032093  0.42536421  0.76940525\n",
      " -1.33629241 -0.83611199  0.57624133 -0.98872398  0.66735679  0.19466092\n",
      "  0.93890873  0.72277145  0.66761686 -0.49600987 -0.82348249 -0.60395477\n",
      " -0.64698302  0.20807425  0.62845032  0.54821697  0.3043833   0.17638546\n",
      " -0.85525304  0.18882487  0.64207319 -0.63121697 -1.24998961  0.67635272\n",
      " -0.64698302 -0.015633    0.32436737  0.6049138   0.61884103  0.22317485\n",
      "  0.27508651  0.56989637  0.04648617 -0.75911283  0.18882487 -0.82348249\n",
      " -1.0512514  -0.94187303 -0.58171006  0.53566839  0.34611418 -0.38973452\n",
      " -0.98249484 -0.86907307 -0.57667465  0.6646904   0.02385356 -0.46302724\n",
      "  0.14632581 -0.85525304  0.25605709  0.31364262  0.15989722 -0.78265147\n",
      "  0.69295555  0.05685679  0.71767566  0.77741263 -1.02270844  0.7443677\n",
      " -1.00963067  0.83032584 -1.04609541  0.3941749   0.15492361  0.05789636\n",
      " -1.26435299  0.5242582   0.09296026  0.65685703 -0.69879136  0.18666275\n",
      "  0.73428651  0.39115525  0.31496263  0.65473718]\n"
     ]
    },
    {
     "data": {
      "text/plain": [
       "0.5087639552519989"
      ]
     },
     "execution_count": 96,
     "metadata": {},
     "output_type": "execute_result"
    }
   ],
   "source": [
    "lr = LinearRegression()\n",
    "lr.fit(x_train,y_train)\n",
    "y_pred = lr.predict(x_test)\n",
    "print(y_pred)\n",
    "r2_score(y_test,y_pred)"
   ]
  },
  {
   "cell_type": "code",
   "execution_count": 97,
   "metadata": {},
   "outputs": [],
   "source": [
    "import statsmodels.api as sm"
   ]
  },
  {
   "cell_type": "code",
   "execution_count": 98,
   "metadata": {},
   "outputs": [],
   "source": [
    "result = sm.OLS(y,X).fit()"
   ]
  },
  {
   "cell_type": "code",
   "execution_count": 99,
   "metadata": {},
   "outputs": [
    {
     "data": {
      "text/plain": [
       "<statsmodels.regression.linear_model.RegressionResultsWrapper at 0x1cbdf096a88>"
      ]
     },
     "execution_count": 99,
     "metadata": {},
     "output_type": "execute_result"
    }
   ],
   "source": [
    "result"
   ]
  },
  {
   "cell_type": "code",
   "execution_count": 100,
   "metadata": {},
   "outputs": [
    {
     "name": "stdout",
     "output_type": "stream",
     "text": [
      "                                 OLS Regression Results                                \n",
      "=======================================================================================\n",
      "Dep. Variable:                 salary   R-squared (uncentered):                   0.478\n",
      "Model:                            OLS   Adj. R-squared (uncentered):              0.471\n",
      "Method:                 Least Squares   F-statistic:                              71.81\n",
      "Date:                Sun, 05 Jun 2022   Prob (F-statistic):                    3.12e-53\n",
      "Time:                        22:13:51   Log-Likelihood:                         -434.25\n",
      "No. Observations:                 397   AIC:                                      878.5\n",
      "Df Residuals:                     392   BIC:                                      898.4\n",
      "Df Model:                           5                                                  \n",
      "Covariance Type:            nonrobust                                                  \n",
      "=================================================================================\n",
      "                    coef    std err          t      P>|t|      [0.025      0.975]\n",
      "---------------------------------------------------------------------------------\n",
      "rank              0.5345      0.048     11.151      0.000       0.440       0.629\n",
      "discipline        0.2720      0.038      7.236      0.000       0.198       0.346\n",
      "yrs.since.phd     0.1806      0.092      1.970      0.050       0.000       0.361\n",
      "yrs.service       0.0012      0.086      0.014      0.989      -0.167       0.170\n",
      "sex               0.0393      0.037      1.063      0.289      -0.033       0.112\n",
      "==============================================================================\n",
      "Omnibus:                        9.520   Durbin-Watson:                   1.875\n",
      "Prob(Omnibus):                  0.009   Jarque-Bera (JB):                9.521\n",
      "Skew:                          -0.350   Prob(JB):                      0.00856\n",
      "Kurtosis:                       3.291   Cond. No.                         5.27\n",
      "==============================================================================\n",
      "\n",
      "Warnings:\n",
      "[1] Standard Errors assume that the covariance matrix of the errors is correctly specified.\n"
     ]
    }
   ],
   "source": [
    "print(result.summary())"
   ]
  },
  {
   "cell_type": "code",
   "execution_count": 101,
   "metadata": {},
   "outputs": [],
   "source": [
    "from sklearn.tree import DecisionTreeRegressor"
   ]
  },
  {
   "cell_type": "code",
   "execution_count": 102,
   "metadata": {},
   "outputs": [
    {
     "name": "stdout",
     "output_type": "stream",
     "text": [
      "[ 0.14341519 -0.97977276  0.63402654  0.57310755  0.64435881  0.16405183\n",
      " -0.63121697  0.5528645   0.53564194  0.27201246  0.05206053  0.26736297\n",
      "  0.78823382 -0.79406167  0.21588867  0.17997898  0.42241575 -1.07621088\n",
      "  0.28598586 -0.58562587  0.62058532  0.68032093  0.42536421  0.76940525\n",
      " -1.33629241 -0.83611199  0.57624133 -0.98872398  0.66735679  0.19466092\n",
      "  0.93890873  0.72277145  0.66761686 -0.49600987 -0.82348249 -0.60395477\n",
      " -0.64698302  0.20807425  0.62845032  0.54821697  0.3043833   0.17638546\n",
      " -0.85525304  0.18882487  0.64207319 -0.63121697 -1.24998961  0.67635272\n",
      " -0.64698302 -0.015633    0.32436737  0.6049138   0.61884103  0.22317485\n",
      "  0.27508651  0.56989637  0.04648617 -0.75911283  0.18882487 -0.82348249\n",
      " -1.0512514  -0.94187303 -0.58171006  0.53566839  0.34611418 -0.38973452\n",
      " -0.98249484 -0.86907307 -0.57667465  0.6646904   0.02385356 -0.46302724\n",
      "  0.14632581 -0.85525304  0.25605709  0.31364262  0.15989722 -0.78265147\n",
      "  0.69295555  0.05685679  0.71767566  0.77741263 -1.02270844  0.7443677\n",
      " -1.00963067  0.83032584 -1.04609541  0.3941749   0.15492361  0.05789636\n",
      " -1.26435299  0.5242582   0.09296026  0.65685703 -0.69879136  0.18666275\n",
      "  0.73428651  0.39115525  0.31496263  0.65473718]\n"
     ]
    },
    {
     "data": {
      "text/plain": [
       "0.5087639552519989"
      ]
     },
     "execution_count": 102,
     "metadata": {},
     "output_type": "execute_result"
    }
   ],
   "source": [
    "dt = DecisionTreeRegressor()\n",
    "dt.fit(x_train,y_train)\n",
    "y_pred = lr.predict(x_test)\n",
    "print(y_pred)\n",
    "r2_score(y_test,y_pred)"
   ]
  },
  {
   "cell_type": "code",
   "execution_count": 103,
   "metadata": {},
   "outputs": [],
   "source": [
    "from sklearn.ensemble import RandomForestRegressor"
   ]
  },
  {
   "cell_type": "code",
   "execution_count": 104,
   "metadata": {},
   "outputs": [
    {
     "name": "stdout",
     "output_type": "stream",
     "text": [
      "[ 0.14341519 -0.97977276  0.63402654  0.57310755  0.64435881  0.16405183\n",
      " -0.63121697  0.5528645   0.53564194  0.27201246  0.05206053  0.26736297\n",
      "  0.78823382 -0.79406167  0.21588867  0.17997898  0.42241575 -1.07621088\n",
      "  0.28598586 -0.58562587  0.62058532  0.68032093  0.42536421  0.76940525\n",
      " -1.33629241 -0.83611199  0.57624133 -0.98872398  0.66735679  0.19466092\n",
      "  0.93890873  0.72277145  0.66761686 -0.49600987 -0.82348249 -0.60395477\n",
      " -0.64698302  0.20807425  0.62845032  0.54821697  0.3043833   0.17638546\n",
      " -0.85525304  0.18882487  0.64207319 -0.63121697 -1.24998961  0.67635272\n",
      " -0.64698302 -0.015633    0.32436737  0.6049138   0.61884103  0.22317485\n",
      "  0.27508651  0.56989637  0.04648617 -0.75911283  0.18882487 -0.82348249\n",
      " -1.0512514  -0.94187303 -0.58171006  0.53566839  0.34611418 -0.38973452\n",
      " -0.98249484 -0.86907307 -0.57667465  0.6646904   0.02385356 -0.46302724\n",
      "  0.14632581 -0.85525304  0.25605709  0.31364262  0.15989722 -0.78265147\n",
      "  0.69295555  0.05685679  0.71767566  0.77741263 -1.02270844  0.7443677\n",
      " -1.00963067  0.83032584 -1.04609541  0.3941749   0.15492361  0.05789636\n",
      " -1.26435299  0.5242582   0.09296026  0.65685703 -0.69879136  0.18666275\n",
      "  0.73428651  0.39115525  0.31496263  0.65473718]\n"
     ]
    },
    {
     "data": {
      "text/plain": [
       "0.5087639552519989"
      ]
     },
     "execution_count": 104,
     "metadata": {},
     "output_type": "execute_result"
    }
   ],
   "source": [
    "rf = RandomForestRegressor()\n",
    "rf.fit(x_train,y_train)\n",
    "y_pred = lr.predict(x_test)\n",
    "print(y_pred)\n",
    "r2_score(y_test,y_pred)"
   ]
  },
  {
   "cell_type": "code",
   "execution_count": 105,
   "metadata": {},
   "outputs": [],
   "source": [
    "from sklearn.ensemble import GradientBoostingRegressor"
   ]
  },
  {
   "cell_type": "code",
   "execution_count": 106,
   "metadata": {},
   "outputs": [
    {
     "name": "stdout",
     "output_type": "stream",
     "text": [
      "[ 0.14341519 -0.97977276  0.63402654  0.57310755  0.64435881  0.16405183\n",
      " -0.63121697  0.5528645   0.53564194  0.27201246  0.05206053  0.26736297\n",
      "  0.78823382 -0.79406167  0.21588867  0.17997898  0.42241575 -1.07621088\n",
      "  0.28598586 -0.58562587  0.62058532  0.68032093  0.42536421  0.76940525\n",
      " -1.33629241 -0.83611199  0.57624133 -0.98872398  0.66735679  0.19466092\n",
      "  0.93890873  0.72277145  0.66761686 -0.49600987 -0.82348249 -0.60395477\n",
      " -0.64698302  0.20807425  0.62845032  0.54821697  0.3043833   0.17638546\n",
      " -0.85525304  0.18882487  0.64207319 -0.63121697 -1.24998961  0.67635272\n",
      " -0.64698302 -0.015633    0.32436737  0.6049138   0.61884103  0.22317485\n",
      "  0.27508651  0.56989637  0.04648617 -0.75911283  0.18882487 -0.82348249\n",
      " -1.0512514  -0.94187303 -0.58171006  0.53566839  0.34611418 -0.38973452\n",
      " -0.98249484 -0.86907307 -0.57667465  0.6646904   0.02385356 -0.46302724\n",
      "  0.14632581 -0.85525304  0.25605709  0.31364262  0.15989722 -0.78265147\n",
      "  0.69295555  0.05685679  0.71767566  0.77741263 -1.02270844  0.7443677\n",
      " -1.00963067  0.83032584 -1.04609541  0.3941749   0.15492361  0.05789636\n",
      " -1.26435299  0.5242582   0.09296026  0.65685703 -0.69879136  0.18666275\n",
      "  0.73428651  0.39115525  0.31496263  0.65473718]\n"
     ]
    },
    {
     "data": {
      "text/plain": [
       "0.5087639552519989"
      ]
     },
     "execution_count": 106,
     "metadata": {},
     "output_type": "execute_result"
    }
   ],
   "source": [
    "gbt = GradientBoostingRegressor()\n",
    "gbt.fit(x_train,y_train)\n",
    "y_pred = lr.predict(x_test)\n",
    "print(y_pred)\n",
    "r2_score(y_test,y_pred)"
   ]
  },
  {
   "cell_type": "code",
   "execution_count": 107,
   "metadata": {},
   "outputs": [],
   "source": [
    "import xgboost"
   ]
  },
  {
   "cell_type": "code",
   "execution_count": 108,
   "metadata": {},
   "outputs": [
    {
     "name": "stdout",
     "output_type": "stream",
     "text": [
      "[ 0.14341519 -0.97977276  0.63402654  0.57310755  0.64435881  0.16405183\n",
      " -0.63121697  0.5528645   0.53564194  0.27201246  0.05206053  0.26736297\n",
      "  0.78823382 -0.79406167  0.21588867  0.17997898  0.42241575 -1.07621088\n",
      "  0.28598586 -0.58562587  0.62058532  0.68032093  0.42536421  0.76940525\n",
      " -1.33629241 -0.83611199  0.57624133 -0.98872398  0.66735679  0.19466092\n",
      "  0.93890873  0.72277145  0.66761686 -0.49600987 -0.82348249 -0.60395477\n",
      " -0.64698302  0.20807425  0.62845032  0.54821697  0.3043833   0.17638546\n",
      " -0.85525304  0.18882487  0.64207319 -0.63121697 -1.24998961  0.67635272\n",
      " -0.64698302 -0.015633    0.32436737  0.6049138   0.61884103  0.22317485\n",
      "  0.27508651  0.56989637  0.04648617 -0.75911283  0.18882487 -0.82348249\n",
      " -1.0512514  -0.94187303 -0.58171006  0.53566839  0.34611418 -0.38973452\n",
      " -0.98249484 -0.86907307 -0.57667465  0.6646904   0.02385356 -0.46302724\n",
      "  0.14632581 -0.85525304  0.25605709  0.31364262  0.15989722 -0.78265147\n",
      "  0.69295555  0.05685679  0.71767566  0.77741263 -1.02270844  0.7443677\n",
      " -1.00963067  0.83032584 -1.04609541  0.3941749   0.15492361  0.05789636\n",
      " -1.26435299  0.5242582   0.09296026  0.65685703 -0.69879136  0.18666275\n",
      "  0.73428651  0.39115525  0.31496263  0.65473718]\n"
     ]
    },
    {
     "data": {
      "text/plain": [
       "0.5087639552519989"
      ]
     },
     "execution_count": 108,
     "metadata": {},
     "output_type": "execute_result"
    }
   ],
   "source": [
    "xgb = xgboost.XGBRegressor()\n",
    "xgb.fit(x_train,y_train)\n",
    "y_pred = lr.predict(x_test)\n",
    "print(y_pred)\n",
    "r2_score(y_test,y_pred)"
   ]
  },
  {
   "cell_type": "code",
   "execution_count": 109,
   "metadata": {},
   "outputs": [],
   "source": [
    "from sklearn.model_selection import GridSearchCV\n",
    "import warnings\n",
    "warnings.filterwarnings(\"ignore\")"
   ]
  },
  {
   "cell_type": "code",
   "execution_count": 67,
   "metadata": {},
   "outputs": [],
   "source": [
    "param_grid = {\n",
    "    'bootstrap': [True],\n",
    "    'max_depth': [80, 90, 100, 110],\n",
    "    'max_features': [2, 3],\n",
    "    'min_samples_leaf': [3, 4, 5],\n",
    "    'min_samples_split': [8, 10, 12],\n",
    "    'n_estimators': [100, 200, 300, 1000]\n",
    "}"
   ]
  },
  {
   "cell_type": "code",
   "execution_count": 68,
   "metadata": {},
   "outputs": [
    {
     "data": {
      "text/plain": [
       "GridSearchCV(cv=5, error_score=nan,\n",
       "             estimator=RandomForestRegressor(bootstrap=True, ccp_alpha=0.0,\n",
       "                                             criterion='mse', max_depth=None,\n",
       "                                             max_features='auto',\n",
       "                                             max_leaf_nodes=None,\n",
       "                                             max_samples=None,\n",
       "                                             min_impurity_decrease=0.0,\n",
       "                                             min_impurity_split=None,\n",
       "                                             min_samples_leaf=1,\n",
       "                                             min_samples_split=2,\n",
       "                                             min_weight_fraction_leaf=0.0,\n",
       "                                             n_estimators=100, n_jobs=None,\n",
       "                                             oob_score=False, random_state=None,\n",
       "                                             verbose=0, warm_start=False),\n",
       "             iid='deprecated', n_jobs=None,\n",
       "             param_grid={'bootstrap': [True], 'max_depth': [80, 90, 100, 110],\n",
       "                         'max_features': [2, 3], 'min_samples_leaf': [3, 4, 5],\n",
       "                         'min_samples_split': [8, 10, 12],\n",
       "                         'n_estimators': [100, 200, 300, 1000]},\n",
       "             pre_dispatch='2*n_jobs', refit=True, return_train_score=False,\n",
       "             scoring=None, verbose=0)"
      ]
     },
     "execution_count": 68,
     "metadata": {},
     "output_type": "execute_result"
    }
   ],
   "source": [
    "Cv_rfc = GridSearchCV(estimator=rf,param_grid=param_grid,cv=5)\n",
    "Cv_rfc.fit(x_train,y_train)"
   ]
  },
  {
   "cell_type": "code",
   "execution_count": 110,
   "metadata": {},
   "outputs": [
    {
     "data": {
      "text/plain": [
       "{'bootstrap': True,\n",
       " 'max_depth': 100,\n",
       " 'max_features': 2,\n",
       " 'min_samples_leaf': 3,\n",
       " 'min_samples_split': 12,\n",
       " 'n_estimators': 100}"
      ]
     },
     "execution_count": 110,
     "metadata": {},
     "output_type": "execute_result"
    }
   ],
   "source": [
    "Cv_rfc.best_params_"
   ]
  },
  {
   "cell_type": "code",
   "execution_count": 112,
   "metadata": {},
   "outputs": [
    {
     "name": "stdout",
     "output_type": "stream",
     "text": [
      "[ 0.14341519 -0.97977276  0.63402654  0.57310755  0.64435881  0.16405183\n",
      " -0.63121697  0.5528645   0.53564194  0.27201246  0.05206053  0.26736297\n",
      "  0.78823382 -0.79406167  0.21588867  0.17997898  0.42241575 -1.07621088\n",
      "  0.28598586 -0.58562587  0.62058532  0.68032093  0.42536421  0.76940525\n",
      " -1.33629241 -0.83611199  0.57624133 -0.98872398  0.66735679  0.19466092\n",
      "  0.93890873  0.72277145  0.66761686 -0.49600987 -0.82348249 -0.60395477\n",
      " -0.64698302  0.20807425  0.62845032  0.54821697  0.3043833   0.17638546\n",
      " -0.85525304  0.18882487  0.64207319 -0.63121697 -1.24998961  0.67635272\n",
      " -0.64698302 -0.015633    0.32436737  0.6049138   0.61884103  0.22317485\n",
      "  0.27508651  0.56989637  0.04648617 -0.75911283  0.18882487 -0.82348249\n",
      " -1.0512514  -0.94187303 -0.58171006  0.53566839  0.34611418 -0.38973452\n",
      " -0.98249484 -0.86907307 -0.57667465  0.6646904   0.02385356 -0.46302724\n",
      "  0.14632581 -0.85525304  0.25605709  0.31364262  0.15989722 -0.78265147\n",
      "  0.69295555  0.05685679  0.71767566  0.77741263 -1.02270844  0.7443677\n",
      " -1.00963067  0.83032584 -1.04609541  0.3941749   0.15492361  0.05789636\n",
      " -1.26435299  0.5242582   0.09296026  0.65685703 -0.69879136  0.18666275\n",
      "  0.73428651  0.39115525  0.31496263  0.65473718]\n"
     ]
    },
    {
     "data": {
      "text/plain": [
       "0.5087639552519989"
      ]
     },
     "execution_count": 112,
     "metadata": {},
     "output_type": "execute_result"
    }
   ],
   "source": [
    "rf = RandomForestRegressor(bootstrap=True,max_depth=100,max_features= 2, min_samples_leaf= 3,min_samples_split= 12,n_estimators= 200,random_state=42)\n",
    "rf.fit(x_train,y_train)\n",
    "y_pred = lr.predict(x_test)\n",
    "print(y_pred)\n",
    "r2_score(y_test,y_pred)"
   ]
  },
  {
   "cell_type": "code",
   "execution_count": null,
   "metadata": {},
   "outputs": [],
   "source": []
  },
  {
   "cell_type": "code",
   "execution_count": null,
   "metadata": {},
   "outputs": [],
   "source": []
  },
  {
   "cell_type": "code",
   "execution_count": null,
   "metadata": {},
   "outputs": [],
   "source": []
  },
  {
   "cell_type": "code",
   "execution_count": null,
   "metadata": {},
   "outputs": [],
   "source": []
  },
  {
   "cell_type": "code",
   "execution_count": null,
   "metadata": {},
   "outputs": [],
   "source": []
  },
  {
   "cell_type": "code",
   "execution_count": null,
   "metadata": {},
   "outputs": [],
   "source": []
  },
  {
   "cell_type": "code",
   "execution_count": null,
   "metadata": {},
   "outputs": [],
   "source": []
  },
  {
   "cell_type": "code",
   "execution_count": null,
   "metadata": {},
   "outputs": [],
   "source": []
  },
  {
   "cell_type": "code",
   "execution_count": null,
   "metadata": {},
   "outputs": [],
   "source": []
  },
  {
   "cell_type": "code",
   "execution_count": null,
   "metadata": {},
   "outputs": [],
   "source": []
  },
  {
   "cell_type": "code",
   "execution_count": null,
   "metadata": {},
   "outputs": [],
   "source": []
  },
  {
   "cell_type": "code",
   "execution_count": null,
   "metadata": {},
   "outputs": [],
   "source": []
  },
  {
   "cell_type": "code",
   "execution_count": null,
   "metadata": {},
   "outputs": [],
   "source": []
  },
  {
   "cell_type": "code",
   "execution_count": null,
   "metadata": {},
   "outputs": [],
   "source": []
  },
  {
   "cell_type": "code",
   "execution_count": null,
   "metadata": {},
   "outputs": [],
   "source": []
  },
  {
   "cell_type": "code",
   "execution_count": null,
   "metadata": {},
   "outputs": [],
   "source": []
  },
  {
   "cell_type": "code",
   "execution_count": null,
   "metadata": {},
   "outputs": [],
   "source": []
  },
  {
   "cell_type": "code",
   "execution_count": null,
   "metadata": {},
   "outputs": [],
   "source": []
  },
  {
   "cell_type": "code",
   "execution_count": null,
   "metadata": {},
   "outputs": [],
   "source": []
  },
  {
   "cell_type": "code",
   "execution_count": null,
   "metadata": {},
   "outputs": [],
   "source": []
  },
  {
   "cell_type": "code",
   "execution_count": null,
   "metadata": {},
   "outputs": [],
   "source": []
  },
  {
   "cell_type": "code",
   "execution_count": null,
   "metadata": {},
   "outputs": [],
   "source": []
  },
  {
   "cell_type": "code",
   "execution_count": null,
   "metadata": {},
   "outputs": [],
   "source": []
  },
  {
   "cell_type": "code",
   "execution_count": null,
   "metadata": {},
   "outputs": [],
   "source": []
  },
  {
   "cell_type": "code",
   "execution_count": null,
   "metadata": {},
   "outputs": [],
   "source": []
  },
  {
   "cell_type": "code",
   "execution_count": null,
   "metadata": {},
   "outputs": [],
   "source": []
  },
  {
   "cell_type": "code",
   "execution_count": null,
   "metadata": {},
   "outputs": [],
   "source": []
  },
  {
   "cell_type": "code",
   "execution_count": null,
   "metadata": {},
   "outputs": [],
   "source": []
  },
  {
   "cell_type": "code",
   "execution_count": null,
   "metadata": {},
   "outputs": [],
   "source": []
  },
  {
   "cell_type": "code",
   "execution_count": null,
   "metadata": {},
   "outputs": [],
   "source": []
  },
  {
   "cell_type": "code",
   "execution_count": null,
   "metadata": {},
   "outputs": [],
   "source": []
  },
  {
   "cell_type": "code",
   "execution_count": null,
   "metadata": {},
   "outputs": [],
   "source": []
  },
  {
   "cell_type": "code",
   "execution_count": null,
   "metadata": {},
   "outputs": [],
   "source": []
  }
 ],
 "metadata": {
  "kernelspec": {
   "display_name": "Python 3",
   "language": "python",
   "name": "python3"
  },
  "language_info": {
   "codemirror_mode": {
    "name": "ipython",
    "version": 3
   },
   "file_extension": ".py",
   "mimetype": "text/x-python",
   "name": "python",
   "nbconvert_exporter": "python",
   "pygments_lexer": "ipython3",
   "version": "3.7.6"
  }
 },
 "nbformat": 4,
 "nbformat_minor": 4
}
